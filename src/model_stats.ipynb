{
 "cells": [
  {
   "cell_type": "code",
   "execution_count": null,
   "metadata": {},
   "outputs": [],
   "source": [
    "from joblib import load\n",
    "import pandas as pd \n",
    "from sklearn. metrics import accuracy_score, classification_report, confusion_matrix, ConfusionMatrixDisplay\n",
    "import matplotlib.pyplot as plt\n",
    "\n",
    "# Load models\n",
    "SAVED_MODELS_PATH = '../saved_models/'\n",
    "\n",
    "decision_tree = load(SAVED_MODELS_PATH+ 'decision_tree.' + 'joblib')\n",
    "logistic_regression = load(SAVED_MODELS_PATH+ 'logistic_regression.' + 'joblib')\n",
    "naive_bayes = load(SAVED_MODELS_PATH+ 'naive_bayes.' + 'joblib')\n",
    "random_forest = load(SAVED_MODELS_PATH+ 'random_forest.' + 'joblib')\n",
    "voting_classifier_hard = load(SAVED_MODELS_PATH+ 'voting_classifier_hard.' + 'joblib')\n",
    "voting_classifier_soft = load(SAVED_MODELS_PATH+ 'voting_classifier_soft.' + 'joblib')\n",
    "\n",
    "model_names = ['decision tree', 'logistic regression', 'naive bayes', 'random forest', 'voting classifier hard', 'voting classifier soft']\n",
    "\n",
    "# Load data\n",
    "train_data_path = '../raw_data/train_data.csv'\n",
    "test_data_path = '../raw_data/test_data.csv'\n",
    "train_data = pd.read_csv(train_data_path)\n",
    "test_data  = pd.read_csv(test_data_path)\n",
    "\n",
    "# Split into train and test sets\n",
    "X_train = train_data.drop('stroke', axis=1)\n",
    "y_train = train_data['stroke']\n",
    "X_test = test_data.drop('stroke', axis=1)\n",
    "y_test = test_data['stroke']\n",
    "\n",
    "models = [decision_tree, logistic_regression, naive_bayes, random_forest, voting_classifier_hard, voting_classifier_soft]"
   ]
  },
  {
   "cell_type": "code",
   "execution_count": null,
   "metadata": {},
   "outputs": [],
   "source": [
    "i = 0\n",
    "print('Accuracy\\n--------')\n",
    "for model in models:\n",
    "    y_pred = model.predict(X_test)\n",
    "    print(f'{model_names[i]} {accuracy_score(y_test, y_pred)}')\n",
    "    i += 1"
   ]
  },
  {
   "cell_type": "code",
   "execution_count": null,
   "metadata": {},
   "outputs": [],
   "source": [
    "i = 0\n",
    "print('Classification report\\n--------')\n",
    "for model in models:\n",
    "    y_pred = model.predict(X_test)\n",
    "    print(f'{model_names[i]}\\n {classification_report(y_test, y_pred)}')\n",
    "    i += 1\n"
   ]
  },
  {
   "cell_type": "code",
   "execution_count": null,
   "metadata": {},
   "outputs": [],
   "source": [
    "i = 0\n",
    "print('\\nConfusion Matrix\\n--------')\n",
    "for model in models:\n",
    "    y_pred = model.predict(X_test)\n",
    "    cm = confusion_matrix(y_test, y_pred)\n",
    "    cm_display = ConfusionMatrixDisplay(confusion_matrix=cm, display_labels=model.classes_)\n",
    "    cm_display.plot()\n",
    "    plt.title(model_names[i])\n",
    "    plt.show()\n",
    "    i += 1"
   ]
  }
 ],
 "metadata": {
  "kernelspec": {
   "display_name": "Python 3",
   "language": "python",
   "name": "python3"
  },
  "language_info": {
   "codemirror_mode": {
    "name": "ipython",
    "version": 3
   },
   "file_extension": ".py",
   "mimetype": "text/x-python",
   "name": "python",
   "nbconvert_exporter": "python",
   "pygments_lexer": "ipython3",
   "version": "3.10.12"
  }
 },
 "nbformat": 4,
 "nbformat_minor": 2
}
